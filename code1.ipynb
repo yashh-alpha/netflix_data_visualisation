{
 "cells": [
  {
   "cell_type": "code",
   "execution_count": null,
   "id": "16318888",
   "metadata": {},
   "outputs": [],
   "source": [
    "import pandas as pd\n",
    "import numpy as np\n",
    "import matplotlib.pyplot as plt\n",
    "\n",
    "df = pd.read_csv('netflix_titles.csv')\n",
    "\n",
    "# Cleaning the data\n",
    "df = df.dropna(subset = [\"type\", \"title\", \"release_year\", \"rating\", \"duration\",\"country\"])\n",
    "\n",
    "# Plotting the number of movies vs TV shows in a bar chart\n",
    "type_counts = df[\"type\"].value_counts()\n",
    "plt.figure(figsize=(6,4))\n",
    "plt.bar(type_counts.index, type_counts.values, color=['steelblue', 'orange'])\n",
    "plt.title('Number of Movies and TV Shows on Netflix')\n",
    "plt.xlabel('Type')\n",
    "plt.ylabel('Count')\n",
    "plt.tight_layout()\n",
    "plt.savefig(\"Movies_vs_TvShows.png\")\n",
    "plt.show()\n",
    "\n",
    "# Plotting the distribution of content ratings in a pie chart\n",
    "rating_counts = df[\"rating\"].value_counts()\n",
    "plt.figure(figsize = (6,4))\n",
    "plt.pie(rating_counts, labels =rating_counts.index, autopct='%1.1f%%', startangle=90, colors=plt.cm.Paired.colors)\n",
    "plt.title('Percentage of Ratings on Netflix')\n",
    "plt.tight_layout()\n",
    "plt.savefig(\"Content_ratings.png\")\n",
    "plt.show()\n",
    "\n"
   ]
  }
 ],
 "metadata": {
  "kernelspec": {
   "display_name": "base",
   "language": "python",
   "name": "python3"
  },
  "language_info": {
   "codemirror_mode": {
    "name": "ipython",
    "version": 3
   },
   "file_extension": ".py",
   "mimetype": "text/x-python",
   "name": "python",
   "nbconvert_exporter": "python",
   "pygments_lexer": "ipython3",
   "version": "3.13.5"
  }
 },
 "nbformat": 4,
 "nbformat_minor": 5
}
